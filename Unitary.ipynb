{
  "nbformat": 4,
  "nbformat_minor": 0,
  "metadata": {
    "colab": {
      "name": "Untitled2.ipynb",
      "provenance": [],
      "collapsed_sections": [],
      "authorship_tag": "ABX9TyOV3WPWD8KrQxfVNBO1Obej",
      "include_colab_link": true
    },
    "kernelspec": {
      "name": "python3",
      "display_name": "Python 3"
    }
  },
  "cells": [
    {
      "cell_type": "markdown",
      "metadata": {
        "id": "view-in-github",
        "colab_type": "text"
      },
      "source": [
        "<a href=\"https://colab.research.google.com/github/sid8123/qml/blob/master/Unitary.ipynb\" target=\"_parent\"><img src=\"https://colab.research.google.com/assets/colab-badge.svg\" alt=\"Open In Colab\"/></a>"
      ]
    },
    {
      "cell_type": "code",
      "metadata": {
        "id": "0aFielf6JTe8"
      },
      "source": [
        "import numpy as np\r\n",
        "\r\n",
        "def HS(M1, M2):\r\n",
        "    \"\"\"Hilbert-Schmidt-Product of two matrices M1, M2\"\"\"\r\n",
        "    return (np.dot(M1.conjugate().transpose(), M2)).trace()\r\n",
        "\r\n",
        "def c2s(c):\r\n",
        "    \"\"\"Return a string representation of a complex number c\"\"\"\r\n",
        "    if c == 0.0:\r\n",
        "        return \"0\"\r\n",
        "    if c.imag == 0:\r\n",
        "        return \"%g\" % c.real\r\n",
        "    elif c.real == 0:\r\n",
        "        return \"%gj\" % c.imag\r\n",
        "    else:\r\n",
        "        return \"%g+%gj\" % (c.real, c.imag)\r\n",
        "\r\n",
        "def decompose(H):\r\n",
        "    \"\"\"Decompose 4x4 matrix H into Pauli matrices\"\"\"\r\n",
        "    from numpy import kron\r\n",
        "    sx = np.array([[0, 1],  [ 1, 0]], dtype=np.complex128)\r\n",
        "    sy = np.array([[0, -1j],[1j, 0]], dtype=np.complex128)\r\n",
        "    sz = np.array([[1, 0],  [0, -1]], dtype=np.complex128)\r\n",
        "    id = np.array([[1, 0],  [ 0, 1]], dtype=np.complex128)\r\n",
        "    S = [id, sx, sy, sz]\r\n",
        "    labels = ['I', 'sigma_x', 'sigma_y', 'sigma_z']\r\n",
        "    for i in range(4):\r\n",
        "        for j in range(4):\r\n",
        "            label = labels[i] + ' times ' + labels[j]\r\n",
        "            a_ij = 0.25 * HS(kron(S[i], S[j]), H)\r\n",
        "            if a_ij != 0.0:\r\n",
        "                print(\"%s\\t*\\t( %s )\" % (c2s(a_ij), label))"
      ],
      "execution_count": null,
      "outputs": []
    },
    {
      "cell_type": "code",
      "metadata": {
        "colab": {
          "base_uri": "https://localhost:8080/"
        },
        "id": "IiwwdguPKgAH",
        "outputId": "6f510eae-a0cb-4648-95fe-99fb6231e689"
      },
      "source": [
        "H = np.array([[ 1.5,  2,  3,  4],\r\n",
        "       [ 5,  6,  7,  8],\r\n",
        "       [ 9, 10, 11, 12],\r\n",
        "       [13, 14, 15, 16]], dtype=np.complex128)\r\n",
        "decompose(H)"
      ],
      "execution_count": null,
      "outputs": [
        {
          "output_type": "stream",
          "text": [
            "8.5\t*\t( I times I )\n",
            "8.5\t*\t( I times sigma_x )\n",
            "-1.5j\t*\t( I times sigma_y )\n",
            "-2.5\t*\t( I times sigma_z )\n",
            "8.5\t*\t( sigma_x times I )\n",
            "8.5\t*\t( sigma_x times sigma_x )\n",
            "-1.5j\t*\t( sigma_x times sigma_y )\n",
            "-2.5\t*\t( sigma_x times sigma_z )\n",
            "-3j\t*\t( sigma_y times I )\n",
            "-3j\t*\t( sigma_y times sigma_x )\n",
            "-5\t*\t( sigma_z times I )\n",
            "-5\t*\t( sigma_z times sigma_x )\n"
          ],
          "name": "stdout"
        }
      ]
    }
  ]
}