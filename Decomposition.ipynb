{
  "nbformat": 4,
  "nbformat_minor": 0,
  "metadata": {
    "colab": {
      "name": "Decomposition.ipynb",
      "provenance": [],
      "authorship_tag": "ABX9TyMB7q5yiVTNlip/Tz8yRwhR",
      "include_colab_link": true
    },
    "kernelspec": {
      "name": "python3",
      "display_name": "Python 3"
    },
    "language_info": {
      "name": "python"
    }
  },
  "cells": [
    {
      "cell_type": "markdown",
      "metadata": {
        "id": "view-in-github",
        "colab_type": "text"
      },
      "source": [
        "<a href=\"https://colab.research.google.com/github/sid8123/qml/blob/master/Decomposition.ipynb\" target=\"_parent\"><img src=\"https://colab.research.google.com/assets/colab-badge.svg\" alt=\"Open In Colab\"/></a>"
      ]
    },
    {
      "cell_type": "code",
      "metadata": {
        "id": "DY4VROPW3I4Q"
      },
      "source": [
        "from collections import defaultdict\n",
        "from functools import reduce, lru_cache\n",
        "from itertools import product\n",
        "import numpy as np"
      ],
      "execution_count": 2,
      "outputs": []
    },
    {
      "cell_type": "code",
      "metadata": {
        "id": "qewqVwXd3OZV"
      },
      "source": [
        "PAULIS = {\n",
        "    \"I\": np.eye(2, dtype=complex),\n",
        "    \"X\": np.array([[0, 1], [1, 0]], dtype=complex),\n",
        "    \"Y\": np.array([[0, -1j], [1j, 0]], dtype=complex),\n",
        "    \"Z\": np.array([[1, 0], [0, -1]], dtype=complex),\n",
        "}\n",
        "\n",
        "\n",
        "def decompose(H):\n",
        "    \"\"\"Decomposes a Hermitian matrix in to a linear sum of tensor products of\n",
        "    Pauli matrices.\n",
        "    Args:\n",
        "        H (ndarray): Hermitian matrix of dimension (2^n x 2^n).\n",
        "    Prints/Returns:\n",
        "        components (defaultdict): Dictionary with tensor products of Pauli\n",
        "        matrices as keys, and corresponding (non-zero) coefficients as values,\n",
        "        that decompose H.\n",
        "    \"\"\"\n",
        "    n = int(np.log2(len(H)))\n",
        "    dims = 2 ** n\n",
        "\n",
        "    if H.shape != (dims, dims):\n",
        "        raise ValueError(\"The input must be a 2^n x 2^n dimensional matrix.\")\n",
        "\n",
        "    basis_key = [\"\".join(k) for k in product(PAULIS.keys(), repeat=n)]\n",
        "    components = defaultdict(int)\n",
        "    \n",
        "    for i, val in enumerate(product(PAULIS.values(), repeat=n)):\n",
        "        basis_mat = reduce(np.kron, val)\n",
        "        coeff = H.reshape(-1).dot(basis_mat.reshape(-1)) / dims\n",
        "        coeff = np.real_if_close(coeff).item()\n",
        "\n",
        "        if not np.allclose(coeff, 0):\n",
        "            components[basis_key[i]] = coeff\n",
        "\n",
        "    print(components)"
      ],
      "execution_count": 3,
      "outputs": []
    },
    {
      "cell_type": "code",
      "metadata": {
        "colab": {
          "base_uri": "https://localhost:8080/"
        },
        "id": "MXYhsG-O3abZ",
        "outputId": "0c8f0144-5270-4c3f-8122-b027f823486a"
      },
      "source": [
        "from datetime import datetime\n",
        "start=datetime.now()\n",
        "H = np.array([[ 1.5,  0,  0,  0.5, 0, 0.5, 0.5, 0],\n",
        "       [ 0, 0.5,  0,  0,  0, 0, 0, 0.5],\n",
        "       [ 0, 0, 0.5, 0, 0, 0, 0, 0.5],\n",
        "       [0.5, 0, 0, -0.5, 0, 0, 0, 0],\n",
        "       [0, 0, 0, 0, 0.5, 0, 0, 0.5],\n",
        "       [0.5, 0, 0, 0, 0, -0.5, 0, 0],\n",
        "       [0.5, 0, 0, 0, 0, 0, -0.5, 0],\n",
        "       [0, 0.5, 0.5, 0, 0.5, 0, 0, -1.5]], dtype=np.complex128)\n",
        "\n",
        "decompose(H)\n",
        "print(datetime.now()-start)"
      ],
      "execution_count": 4,
      "outputs": [
        {
          "output_type": "stream",
          "text": [
            "defaultdict(<class 'int'>, {'IIZ': 0.5, 'IXX': 0.25, 'IYY': -0.25, 'IZI': 0.5, 'XIX': 0.25, 'XXI': 0.25, 'YIY': -0.25, 'YYI': -0.25, 'ZII': 0.5})\n",
            "0:00:00.018253\n"
          ],
          "name": "stdout"
        }
      ]
    }
  ]
}